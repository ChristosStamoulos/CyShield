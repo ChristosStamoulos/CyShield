{
 "cells": [
  {
   "cell_type": "code",
   "execution_count": 4,
   "id": "a15b1fb6-f6eb-41b0-b61d-40cd8e186602",
   "metadata": {},
   "outputs": [],
   "source": [
    "import torch\n",
    "from transformers import AutoModelForSequenceClassification, AutoTokenizer\n",
    "from typing import List, Dict, Any\n",
    "import threading\n",
    "from queue import Queue\n",
    "import time\n",
    "from concurrent.futures import ThreadPoolExecutor, as_completed\n",
    "from dataclasses import dataclass\n",
    "from datetime import datetime\n",
    "import logging\n",
    "import os\n",
    "from threading import Lock\n",
    "import numpy as np\n",
    "import asyncio\n",
    "import aiohttp\n",
    "import uvicorn\n",
    "from fastapi import FastAPI, HTTPException, BackgroundTasks\n",
    "from pydantic import BaseModel"
   ]
  },
  {
   "cell_type": "code",
   "execution_count": null,
   "id": "b444c9db-33de-4caf-823b-57a110eacf00",
   "metadata": {},
   "outputs": [],
   "source": [
    "@dataclass\n",
    "class PredictionRequest:\n",
    "    message_id: str\n",
    "    user_id: str\n",
    "    text: str\n",
    "    timestamp: datetime\n",
    "\n",
    "    def __post_init__(self):\n",
    "        if self.timestamp is None:\n",
    "            self.timestamp = time.time()"
   ]
  },
  {
   "cell_type": "code",
   "execution_count": null,
   "id": "7f3b2c3c-fc3b-417f-b823-581d8d52fef0",
   "metadata": {},
   "outputs": [],
   "source": [
    "@dataclass\n",
    "class PredictionResult:\n",
    "    message_id: str\n",
    "    user_id: str\n",
    "    is_bullying: bool\n",
    "    confidence: float\n",
    "    probability_bullying: float\n",
    "    # processing_time: float\n",
    "    # model_version: str"
   ]
  },
  {
   "cell_type": "code",
   "execution_count": null,
   "id": "ed7f7a95-de22-4b05-8385-dcce62728245",
   "metadata": {},
   "outputs": [],
   "source": [
    "class SingleTextRequest(BaseModel):\n",
    "    text: str\n",
    "    user_id: str = \"unknown\"\n",
    "    message_id: Optional[str] = None\n",
    "\n",
    "class BatchTextRequest(BaseModel):\n",
    "    messages: List[Dict[str, str]]\n"
   ]
  },
  {
   "cell_type": "code",
   "execution_count": null,
   "id": "8922e2a8-e542-49c7-994e-9c6ea5495194",
   "metadata": {},
   "outputs": [],
   "source": [
    "class PredictionResponse(BaseModel):\n",
    "    message_id: str\n",
    "    user_id: str\n",
    "    is_bullying: bool\n",
    "    confidence: float\n",
    "    probability_bullying: float\n",
    "    processing_time: float\n",
    "    model_version: str\n",
    "    alert_level: str\n",
    "    timestamp: str\n",
    "\n",
    "class BatchPredictionResponse(BaseModel):\n",
    "    results: List[PredictionResponse]\n",
    "    total_processed: int\n",
    "    total_processing_time: float\n",
    "    average_processing_time: float\n"
   ]
  },
  {
   "cell_type": "code",
   "execution_count": null,
   "id": "e065f8f2-8a27-41f3-8a8d-89289531c269",
   "metadata": {},
   "outputs": [],
   "source": [
    "class HealthResponse(BaseModel):\n",
    "    status: str\n",
    "    model_loaded: bool\n",
    "    stats: Dict\n",
    "    uptime: str\n"
   ]
  },
  {
   "cell_type": "code",
   "execution_count": null,
   "id": "8f60dc66-3050-478d-8858-09f29a3ac66b",
   "metadata": {},
   "outputs": [],
   "source": [
    "class CyberbullyingDetector:\n",
    "    def __init__(self, model_path: str, host: str = \"0.0.0.0\", port: int = 8080, **kwargs):\n",
    "        self.model_path = model_path\n",
    "        self.host = host\n",
    "        self.port = port\n",
    "        self.start_time = time.time()\n",
    "        \n",
    "        # Initialize the cyberbullying API\n",
    "        logger.info(\"Loading cyberbullying model...\")\n",
    "        self.api = CyberbullyingAPI(model_path, **kwargs)\n",
    "        logger.info(\"Model loaded successfully!\")\n",
    "        \n",
    "\n",
    "        self.app = FastAPI(\n",
    "            title=\"Cyberbullying Detection API\",\n",
    "            description=\"Real-time cyberbullying detection service\",\n",
    "            version=\"1.0.0\"\n",
    "        )\n",
    "\n",
    "        "
   ]
  }
 ],
 "metadata": {
  "kernelspec": {
   "display_name": "Python 3 (ipykernel)",
   "language": "python",
   "name": "python3"
  },
  "language_info": {
   "codemirror_mode": {
    "name": "ipython",
    "version": 3
   },
   "file_extension": ".py",
   "mimetype": "text/x-python",
   "name": "python",
   "nbconvert_exporter": "python",
   "pygments_lexer": "ipython3",
   "version": "3.12.6"
  }
 },
 "nbformat": 4,
 "nbformat_minor": 5
}
